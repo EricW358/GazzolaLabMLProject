{
 "cells": [
  {
   "cell_type": "code",
   "execution_count": 1,
   "metadata": {},
   "outputs": [],
   "source": [
    "import matplotlib.animation as animation\n",
    "\n",
    "from brian2 import *\n",
    "\n",
    "\n",
    "### global parameters\n",
    "defaultclock.dt = 15*ms\n",
    "\n",
    "\n",
    "### simulation code\n",
    "def run_sim_ou(N, K, A, Delta, omega_0, duration, random_seed=214040893):\n",
    "    #start_scope()\n",
    "    seed(random_seed)\n",
    "    D = 0.5*Hz**2\n",
    "    r = 1.0*second\n",
    "    eqs = '''\n",
    "    dTheta/dt = omega + K/N*coupling + noise: 1 #unit of theta not dtheta\n",
    "    dnoise/dt = -noise/r + A*sqrt(D)/r: Hz\n",
    "    omega : Hz(constant) # intrinsic frequency\n",
    "    coupling : 1\n",
    "    '''\n",
    "\n",
    "    oscillators = NeuronGroup(N, eqs, method='euler')\n",
    "    oscillators.Theta = np.random.rand(N)  # same initial phase angle\n",
    "\n",
    "    \n",
    "    oscillators.noise = 0.0 * Hz\n",
    "\n",
    "\n",
    "    #CHANGE THIS TO ANOTHER VALUE\n",
    "    lorentzian_omegas = omega_0 + Delta * np.tan(np.pi * (np.random.rand(N) - 0.5))\n",
    "    #lorentzian_omegas = omega_0\n",
    "    oscillators.omega = lorentzian_omegas\n",
    "\n",
    "\n",
    "    connections = Synapses(oscillators, oscillators,\n",
    "                        'coupling_post = sin(Theta_pre - Theta_post) : 1 (summed)')\n",
    "    connections.connect()  # all-to-all\n",
    "\n",
    "    mon = StateMonitor(oscillators, 'Theta', record=True)\n",
    "\n",
    "   # Variable to hold the current value of z\n",
    "    z_values = []\n",
    "    @network_operation()\n",
    "    def compute_z():\n",
    "        # Calculate z(t) using the current phases\n",
    "        z = np.mean(np.exp(1j * oscillators.Theta))\n",
    "        z_values.append(z)\n",
    "\n",
    "    net = Network(oscillators, connections, mon, compute_z)\n",
    "    net.run(duration)\n",
    "\n",
    "    return z_values"
   ]
  },
  {
   "cell_type": "code",
   "execution_count": 2,
   "metadata": {},
   "outputs": [
    {
     "name": "stdout",
     "output_type": "stream",
     "text": [
      "1 0.830078125\n",
      "11 0.830078125\n",
      "21 0.830078125\n",
      "31 0.830078125\n",
      "41 0.830078125\n",
      "51 0.830078125\n",
      "61 0.830078125\n",
      "71 0.830078125\n",
      "81 0.830078125\n",
      "91 0.830078125\n"
     ]
    }
   ],
   "source": [
    "arr = [10.0, 3.5, 1.4]\n",
    "sigma = 2*pi/(24) * Hz\n",
    "Delta = sigma\n",
    "Omega = arr[2] * sigma\n",
    "omega_0 = sigma - Omega\n",
    "min = 0\n",
    "max = 100\n",
    "time = 15 * second\n",
    "\n",
    "maxAmplitude = 100 #max amplitude tested\n",
    "synch_needed = []\n",
    "amplitude = []\n",
    "#Initializing amplitude values (linear with jumpstep 1)\n",
    "for A in range(1, maxAmplitude + 1, 10) :\n",
    "    amplitude.append(A)\n",
    "\n",
    "\n",
    "\n",
    "for A in amplitude :\n",
    "    min = 0\n",
    "    max = 100\n",
    "    while((max - min) >= 1e-2) :\n",
    "        mid = (min+max)/2\n",
    "        K  = mid * Hz\n",
    "        z_final_ou = run_sim_ou(250, K, A, Delta, omega_0, time) #Can also test with 250 and 1000 just to verify result\n",
    "        z_last_100_elements = z_final_ou[-100:]\n",
    "        average_abs = np.mean(np.abs(z_last_100_elements))\n",
    "        if(average_abs > 0.6):\n",
    "            max = mid\n",
    "        else: \n",
    "            min = mid\n",
    "    print(A, min)\n",
    "    synch_needed.append(min)\n"
   ]
  },
  {
   "cell_type": "code",
   "execution_count": 3,
   "metadata": {},
   "outputs": [
    {
     "data": {
      "image/png": "[encoded data removed]",
      "text/plain": [
       "<Figure size 640x480 with 1 Axes>"
      ]
     },
     "metadata": {},
     "output_type": "display_data"
    }
   ],
   "source": [
    "plt.plot(amplitude, synch_needed, marker='o', linestyle='-')\n",
    "\n",
    "plt.xlabel(\"Amplitude of Noise\")\n",
    "plt.ylabel(\"Min Synchronization Constant (K)\")\n",
    "plt.title(\"Synch Needed vs Amplitude\")\n",
    "\n",
    "# Show the plot\n",
    "plt.show()"
   ]
  }
 ],
 "metadata": {
  "kernelspec": {
   "display_name": ".venv",
   "language": "python",
   "name": "python3"
  },
  "language_info": {
   "codemirror_mode": {
    "name": "ipython",
    "version": 3
   },
   "file_extension": ".py",
   "mimetype": "text/x-python",
   "name": "python",
   "nbconvert_exporter": "python",
   "pygments_lexer": "ipython3",
   "version": "3.13.2"
  }
 },
 "nbformat": 4,
 "nbformat_minor": 2
}
