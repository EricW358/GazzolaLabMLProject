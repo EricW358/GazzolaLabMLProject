{
 "cells": [
  {
   "cell_type": "markdown",
   "metadata": {},
   "source": [
    "## OU NOISE SIMULATION"
   ]
  },
  {
   "cell_type": "code",
   "execution_count": 109,
   "metadata": {},
   "outputs": [],
   "source": [
    "import matplotlib.animation as animation\n",
    "\n",
    "from brian2 import *\n",
    "\n",
    "\n",
    "### global parameters\n",
    "defaultclock.dt = 15*ms\n",
    "\n",
    "\n",
    "### simulation code\n",
    "def run_sim_ou(N, K, Delta, omega_0, duration, random_seed=214040893):\n",
    "    #start_scope()\n",
    "    seed(random_seed)\n",
    "    D = 0.5*Hz**2\n",
    "    r = 1.0*second\n",
    "    eqs = '''\n",
    "    dTheta/dt = omega + K/N*coupling + noise: 1 #unit of theta not dtheta\n",
    "    dnoise/dt = -noise/r + sqrt(D)/r: Hz\n",
    "    omega : Hz(constant) # intrinsic frequency\n",
    "    coupling : 1\n",
    "    '''\n",
    "\n",
    "    oscillators = NeuronGroup(N, eqs, method='euler')\n",
    "    oscillators.Theta = np.random.rand(N)  # same initial phase angle\n",
    "\n",
    "    \n",
    "    oscillators.noise = 0.0 * Hz\n",
    "\n",
    "\n",
    "    #CHANGE THIS TO ANOTHER VALUE\n",
    "    lorentzian_omegas = omega_0 + Delta * np.tan(np.pi * (np.random.rand(N) - 0.5))\n",
    "    #lorentzian_omegas = omega_0\n",
    "    oscillators.omega = lorentzian_omegas\n",
    "\n",
    "\n",
    "    connections = Synapses(oscillators, oscillators,\n",
    "                        'coupling_post = sin(Theta_pre - Theta_post) : 1 (summed)')\n",
    "    connections.connect()  # all-to-all\n",
    "\n",
    "    mon = StateMonitor(oscillators, 'Theta', record=True)\n",
    "\n",
    "   # Variable to hold the current value of z\n",
    "    z_values = []\n",
    "    @network_operation()\n",
    "    def compute_z():\n",
    "        # Calculate z(t) using the current phases\n",
    "        z = np.mean(np.exp(1j * oscillators.Theta))\n",
    "        z_values.append(z)\n",
    "\n",
    "    net = Network(oscillators, connections, mon, compute_z)\n",
    "    net.run(duration)\n",
    "\n",
    "    return z_values\n",
    "        "
   ]
  },
  {
   "cell_type": "markdown",
   "metadata": {},
   "source": [
    "## Normal Noise Simulation"
   ]
  },
  {
   "cell_type": "code",
   "execution_count": 144,
   "metadata": {},
   "outputs": [],
   "source": [
    "import matplotlib.animation as animation\n",
    "\n",
    "from brian2 import *\n",
    "\n",
    "\n",
    "### global parameters\n",
    "defaultclock.dt = 15*ms\n",
    "\n",
    "\n",
    "### simulation code\n",
    "def run_sim_normal(N, K, Delta, omega_0, duration, random_seed=214040893):\n",
    "    #start_scope()\n",
    "    seed(random_seed)\n",
    "    eqs = '''\n",
    "    dTheta/dt = omega + K/N*coupling + noise: 1 #unit of theta not dtheta\n",
    "    omega : Hz(constant) # intrinsic frequency\n",
    "    coupling : 1\n",
    "    noise : Hz\n",
    "    '''\n",
    "\n",
    "    oscillators = NeuronGroup(N, eqs, method='euler')\n",
    "    oscillators.Theta = np.random.rand(N)  # same initial phase angle\n",
    "\n",
    "    \n",
    "    oscillators.noise = np.random.normal(0, 1, N) * Hz\n",
    "\n",
    "\n",
    "    #CHANGE THIS TO ANOTHER VALUE\n",
    "    lorentzian_omegas = omega_0 + Delta * np.tan(np.pi * (np.random.rand(N) - 0.5))\n",
    "    #lorentzian_omegas = omega_0\n",
    "    oscillators.omega = lorentzian_omegas\n",
    "\n",
    "\n",
    "    connections = Synapses(oscillators, oscillators,\n",
    "                        'coupling_post = sin(Theta_pre - Theta_post) : 1 (summed)')\n",
    "    connections.connect()  # all-to-all\n",
    "\n",
    "    mon = StateMonitor(oscillators, 'Theta', record=True)\n",
    "\n",
    "   # Variable to hold the current value of z\n",
    "    z_values = []\n",
    "    @network_operation()\n",
    "    def compute_z():\n",
    "        # Calculate z(t) using the current phases\n",
    "        z = np.mean(np.exp(1j * oscillators.Theta))\n",
    "        z_values.append(z)\n",
    "\n",
    "    net = Network(oscillators, connections, mon, compute_z)\n",
    "    net.run(duration)\n",
    "\n",
    "    return z_values"
   ]
  },
  {
   "cell_type": "markdown",
   "metadata": {},
   "source": [
    "# Non-Gaussian Noise Simulation"
   ]
  },
  {
   "cell_type": "code",
   "execution_count": 134,
   "metadata": {},
   "outputs": [],
   "source": [
    "import matplotlib.animation as animation\n",
    "\n",
    "from brian2 import *\n",
    "\n",
    "\n",
    "### global parameters\n",
    "defaultclock.dt = 15*ms\n",
    "\n",
    "\n",
    "### simulation code\n",
    "def run_sim_non_gaussian(N, K, Delta, omega_0, duration, random_seed=214040893):\n",
    "    #start_scope()\n",
    "    seed(random_seed)\n",
    "    eqs = '''\n",
    "    dTheta/dt = omega + K/N*coupling + noise: 1 #unit of theta not dtheta\n",
    "    omega : Hz(constant) # intrinsic frequency\n",
    "    coupling : 1\n",
    "    noise : Hz\n",
    "    '''\n",
    "\n",
    "    oscillators = NeuronGroup(N, eqs, method='euler')\n",
    "    oscillators.Theta = np.random.rand(N)  # same initial phase angle\n",
    "\n",
    "    spike_probability = 0.2 \n",
    "    spike_magnitude = 5 \n",
    "    impulse_noise = (np.random.rand(N) < spike_probability) * np.random.uniform(-spike_magnitude, spike_magnitude, N)\n",
    "    oscillators.noise = impulse_noise * Hz\n",
    "\n",
    "\n",
    "    #CHANGE THIS TO ANOTHER VALUE\n",
    "    lorentzian_omegas = omega_0 + Delta * np.tan(np.pi * (np.random.rand(N) - 0.5))\n",
    "    #lorentzian_omegas = omega_0\n",
    "    oscillators.omega = lorentzian_omegas\n",
    "\n",
    "\n",
    "    connections = Synapses(oscillators, oscillators,\n",
    "                        'coupling_post = sin(Theta_pre - Theta_post) : 1 (summed)')\n",
    "    connections.connect()  # all-to-all\n",
    "\n",
    "    mon = StateMonitor(oscillators, 'Theta', record=True)\n",
    "\n",
    "   # Variable to hold the current value of z\n",
    "    z_values = []\n",
    "    @network_operation()\n",
    "    def compute_z():\n",
    "        # Calculate z(t) using the current phases\n",
    "        z = np.mean(np.exp(1j * oscillators.Theta))\n",
    "        z_values.append(z)\n",
    "\n",
    "    net = Network(oscillators, connections, mon, compute_z)\n",
    "    net.run(duration)\n",
    "\n",
    "    return z_values"
   ]
  },
  {
   "cell_type": "code",
   "execution_count": null,
   "metadata": {},
   "outputs": [],
   "source": [
    "arr = [10.0, 3.5, 1.4]\n",
    "neuron_values = np.arange(10, 180, 10)\n",
    "synch_values_non_gaussian = []\n",
    "sigma = 2*pi/(24) * Hz\n",
    "Delta = sigma\n",
    "min = 1.1\n",
    "max = 52.1\n",
    "step_size = 0.5\n",
    "for count in neuron_values: \n",
    "    K = arr[0] * Delta      # Coupling strength\n",
    "    F = arr[1] * Delta # Amplitude of external driving force\n",
    "    Omega = arr[2] * Delta\n",
    "    omega_0 = sigma - Omega\n",
    "    #plt.figure(figsize=(4, 4))\n",
    "    z_ou_done = False\n",
    "    z_normal_done = False\n",
    "    z_non_gaussian_done = False\n",
    "    for I in np.arange(min, max, step_size): #Can potentially change to binary search??\n",
    "        K  = I * Hz\n",
    "        z_final_non_gaussian = run_sim_non_gaussian(count, K, Delta, omega_0, 5*second)\n",
    "        if(not z_normal_done and abs(z_final_non_gaussian[-1]) > 0.99) :\n",
    "            #print(f'Synchronized at {I}*Hz for initial_value at {count} neurons')\n",
    "            synch_values_non_gaussian.append(I)\n",
    "            z_non_gaussian_done = True\n",
    "            break\n",
    "    if(not z_non_gaussian_done) :\n",
    "        synch_values_non_gaussian.append(70.1)"
   ]
  },
  {
   "cell_type": "code",
   "execution_count": 158,
   "metadata": {},
   "outputs": [
    {
     "name": "stdout",
     "output_type": "stream",
     "text": [
      "6.6\n"
     ]
    },
    {
     "name": "stderr",
     "output_type": "stream",
     "text": [
      "WARNING    'N' is an internal variable of group 'neurongroup', but also exists in the run namespace with the value np.int64(28). The internal variable will be used. [brian2.groups.group.Group.resolve.resolution_conflict]\n"
     ]
    },
    {
     "name": "stdout",
     "output_type": "stream",
     "text": [
      "15.6\n"
     ]
    },
    {
     "name": "stderr",
     "output_type": "stream",
     "text": [
      "WARNING    'N' is an internal variable of group 'neurongroup', but also exists in the run namespace with the value np.int64(46). The internal variable will be used. [brian2.groups.group.Group.resolve.resolution_conflict]\n",
      "WARNING    'N' is an internal variable of group 'neurongroup', but also exists in the run namespace with the value np.int64(64). The internal variable will be used. [brian2.groups.group.Group.resolve.resolution_conflict]\n"
     ]
    },
    {
     "name": "stdout",
     "output_type": "stream",
     "text": [
      "15.1\n",
      "10.1\n"
     ]
    },
    {
     "name": "stderr",
     "output_type": "stream",
     "text": [
      "WARNING    'N' is an internal variable of group 'neurongroup', but also exists in the run namespace with the value np.int64(82). The internal variable will be used. [brian2.groups.group.Group.resolve.resolution_conflict]\n"
     ]
    },
    {
     "name": "stdout",
     "output_type": "stream",
     "text": [
      "9.6\n",
      "12.6\n"
     ]
    },
    {
     "name": "stderr",
     "output_type": "stream",
     "text": [
      "WARNING    'N' is an internal variable of group 'neurongroup', but also exists in the run namespace with the value np.int64(118). The internal variable will be used. [brian2.groups.group.Group.resolve.resolution_conflict]\n"
     ]
    },
    {
     "name": "stdout",
     "output_type": "stream",
     "text": [
      "12.6\n"
     ]
    },
    {
     "name": "stderr",
     "output_type": "stream",
     "text": [
      "WARNING    'N' is an internal variable of group 'neurongroup', but also exists in the run namespace with the value np.int64(136). The internal variable will be used. [brian2.groups.group.Group.resolve.resolution_conflict]\n",
      "WARNING    'N' is an internal variable of group 'neurongroup', but also exists in the run namespace with the value np.int64(154). The internal variable will be used. [brian2.groups.group.Group.resolve.resolution_conflict]\n"
     ]
    },
    {
     "name": "stdout",
     "output_type": "stream",
     "text": [
      "15.6\n",
      "16.1\n"
     ]
    },
    {
     "name": "stderr",
     "output_type": "stream",
     "text": [
      "WARNING    'N' is an internal variable of group 'neurongroup', but also exists in the run namespace with the value np.int64(172). The internal variable will be used. [brian2.groups.group.Group.resolve.resolution_conflict]\n"
     ]
    },
    {
     "name": "stdout",
     "output_type": "stream",
     "text": [
      "18.1\n"
     ]
    }
   ],
   "source": [
    "arr = [10.0, 3.5, 1.4]\n",
    "neuron_values = np.arange(10, 180, 18)\n",
    "synch_values_ou = []\n",
    "synch_values_normal = []\n",
    "synch_values_non_gaussian = []\n",
    "sigma = 2*pi/(24) * Hz\n",
    "Delta = sigma\n",
    "for count in neuron_values: \n",
    "    K = arr[0] * Delta      # Coupling strength\n",
    "    F = arr[1] * Delta # Amplitude of external driving force\n",
    "    Omega = arr[2] * Delta\n",
    "    omega_0 = sigma - Omega\n",
    "    #plt.figure(figsize=(4, 4))\n",
    "    z_ou_done = False\n",
    "    z_normal_done = False\n",
    "    for I in np.arange(1.1, 52.1, 0.5): #Can potentially change to binary search??\n",
    "        K  = I * Hz\n",
    "        if(not z_ou_done) :\n",
    "            z_final_ou = run_sim_ou(count, K, Delta, omega_0, 5*second)\n",
    "        if(not z_normal_done) : \n",
    "            z_final_normal = run_sim_normal(count, K, Delta, omega_0, 5*second)\n",
    "        #print(f'z_value = {abs(z_final[-1])}\\n')\n",
    "        if(not z_ou_done and abs(z_final_ou[-1]) > 0.99) :\n",
    "            #print(f'Synchronized at {I}*Hz for initial_value at {count} neurons')\n",
    "            synch_values_ou.append(I)\n",
    "            print(I)\n",
    "            z_ou_done = True\n",
    "        if(not z_normal_done and abs(z_final_normal[-1]) > 0.99) :\n",
    "            #print(f'Synchronized at {I}*Hz for initial_value at {count} neurons')\n",
    "            synch_values_normal.append(I)\n",
    "            z_normal_done = True\n",
    "            \n",
    "        if(z_normal_done and z_ou_done) :\n",
    "            break\n",
    "    if(not z_ou_done) :\n",
    "        synch_values_ou.append(70.1)\n",
    "    if(not z_normal_done) :\n",
    "        synch_values_normal.append(70.1)\n",
    "        #plt.plot(z_real, z_imag, label=labels[i], color=colors[i])\n",
    "    # Labels and formatting\n",
    "    # plt.xlabel(\"Re(z)\")\n",
    "    # plt.ylabel(\"Im(z)\")\n",
    "    # plt.title(f\"Panel: {count}\")\n",
    "    # plt.legend()\n",
    "    # plt.axis(\"equal\")\n",
    "    # plt.grid()\n",
    "# plt.show()"
   ]
  },
  {
   "cell_type": "code",
   "execution_count": 159,
   "metadata": {},
   "outputs": [
    {
     "name": "stdout",
     "output_type": "stream",
     "text": [
      "[np.float64(14.6), np.float64(27.1), np.float64(9.1), np.float64(17.1), np.float64(48.1), np.float64(39.6), np.float64(17.6), np.float64(13.6), np.float64(17.6), np.float64(11.1)]\n"
     ]
    }
   ],
   "source": [
    "print(synch_values_normal)"
   ]
  },
  {
   "cell_type": "markdown",
   "metadata": {},
   "source": [
    "# Graph Noise Comparisons"
   ]
  },
  {
   "cell_type": "code",
   "execution_count": 160,
   "metadata": {},
   "outputs": [
    {
     "data": {
      "image/png": "[encoded data removed]",
      "text/plain": [
       "<Figure size 800x500 with 1 Axes>"
      ]
     },
     "metadata": {},
     "output_type": "display_data"
    }
   ],
   "source": [
    "import numpy as np\n",
    "import matplotlib.pyplot as plt\n",
    "\n",
    "# Create the plot\n",
    "plt.figure(figsize=(8, 5))\n",
    "plt.plot(neuron_values, synch_values_ou, marker='o', linestyle='-', color='b', label='OU Process Synchronization')\n",
    "plt.plot(neuron_values, synch_values_normal, marker='s', linestyle='--', color='r', label='Normal White Noise Synchronization')\n",
    "#plt.plot(neuron_values, synch_values_non_gaussian, marker='l', linestyle='-', color='g', label= 'Non-Gaussian (Spike) Noise Synchronization')\n",
    "# Labels and title\n",
    "plt.xlabel(\"Neuron Values\")\n",
    "plt.ylabel(\"Synchronization Values\")\n",
    "plt.title(\"Neuron Synchronization: OU vs Normal Noise\")\n",
    "plt.legend()\n",
    "plt.grid(True)\n",
    "\n",
    "# Show the plot\n",
    "plt.show()"
   ]
  },
  {
   "cell_type": "code",
   "execution_count": null,
   "metadata": {},
   "outputs": [],
   "source": [
    "#Types of noises for refrence \n",
    "\n",
    "#constant/normal noise\n",
    "    #noise = 0\n",
    "    #noise = 2\n",
    "\n",
    "#Random noise\n",
    "    #noise = np.random.rand(N)\n",
    "\n",
    "\n",
    "#gaussian noise\n",
    "    # gaussian_noise = np.random.normal(0, 1, N)\n",
    "    # gaussian_noise = np.random.normal(5, 1, N)\n",
    "\n",
    "#non-gaussian noise (impulses)\n",
    "    # spike_probability = 0.2 \n",
    "    # spike_magnitude = 5 \n",
    "    # impulse_noise = (np.random.rand(N) < spike_probability) * np.random.uniform(-spike_magnitude, spike_magnitude, N)\n",
    "\n",
    "#non-gaussian noise (Poisson Noise)\n",
    "    # lambda_param = 3  # Average rate of spikes\n",
    "    # poisson_noise = np.random.poisson(lambda_param, N) - lambda_param  # Center at 0"
   ]
  },
  {
   "cell_type": "code",
   "execution_count": 79,
   "metadata": {},
   "outputs": [],
   "source": []
  }
 ],
 "metadata": {
  "kernelspec": {
   "display_name": ".venv",
   "language": "python",
   "name": "python3"
  },
  "language_info": {
   "codemirror_mode": {
    "name": "ipython",
    "version": 3
   },
   "file_extension": ".py",
   "mimetype": "text/x-python",
   "name": "python",
   "nbconvert_exporter": "python",
   "pygments_lexer": "ipython3",
   "version": "3.13.2"
  }
 },
 "nbformat": 4,
 "nbformat_minor": 2
}
